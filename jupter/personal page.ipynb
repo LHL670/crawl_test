{
 "cells": [
  {
   "cell_type": "code",
   "execution_count": 3,
   "id": "1984bdc1",
   "metadata": {},
   "outputs": [],
   "source": [
    "%%capture\n",
    "pip install --upgrade firebase-admin "
   ]
  },
  {
   "cell_type": "code",
   "execution_count": 1,
   "id": "a9426adc",
   "metadata": {},
   "outputs": [],
   "source": [
    "import requests\n",
    "from bs4 import BeautifulSoup\n",
    "import datetime\n",
    "import time\n",
    "import threading\n",
    "import queue\n",
    "import random"
   ]
  },
  {
   "cell_type": "code",
   "execution_count": 2,
   "id": "2a8519a6",
   "metadata": {},
   "outputs": [],
   "source": [
    "import firebase_admin\n",
    "from firebase_admin import credentials\n",
    "from firebase_admin import firestore\n",
    "\n",
    "if not firebase_admin._apps:\n",
    "    cred = credentials.Certificate(\"../jsonFile/service-account.json\")\n",
    "    firebase_admin.initialize_app(cred)\n",
    "    \n",
    "db = firestore.client()"
   ]
  },
  {
   "cell_type": "code",
   "execution_count": 3,
   "id": "9b9080a4",
   "metadata": {},
   "outputs": [],
   "source": [
    "def currentTime():\n",
    "    now = datetime.datetime.now()\n",
    "    currentTime = now.strftime(\"%Y-%m-%d %H:%M:%S\")\n",
    "    return currentTime"
   ]
  },
  {
   "cell_type": "code",
   "execution_count": 4,
   "id": "feaca5cf",
   "metadata": {},
   "outputs": [],
   "source": [
    "#personal detail\n",
    "def personalData(soup):\n",
    "    info = {}\n",
    "    content = ''.join(soup.find('meta', property = 'og:image')['content']) #list to string\n",
    "\n",
    "    d = soup.find('div', id = 'gsc_prf_i')\n",
    "\n",
    "    #name\n",
    "    info['name'] = d.find('div', id = 'gsc_prf_in').text\n",
    "\n",
    "    #university\n",
    "    try:\n",
    "        info['university'] = d.find('a', class_ = 'gsc_prf_ila').text\n",
    "    except:\n",
    "        info['university'] = ' '\n",
    "\n",
    "    #picture\n",
    "    info['picture'] = soup.find('div', id = 'gsc_prf_pua').find('img')['src'] \n",
    "    \n",
    "    label = []\n",
    "    for p in soup.find_all('a', class_='gsc_prf_inta gs_ibl'):\n",
    "\n",
    "        label.append(p.text)\n",
    "    info['label'] = label\n",
    "    info['updateTime'] = currentTime()\n",
    "    return info\n"
   ]
  },
  {
   "cell_type": "code",
   "execution_count": 5,
   "id": "247d1965",
   "metadata": {},
   "outputs": [],
   "source": [
    "def citeBy(soup):\n",
    "    citeBy = {}\n",
    "    citations = {}\n",
    "    h_index = {}\n",
    "    i10_index = {}\n",
    "    def cited(status, value):\n",
    "\n",
    "        if status / 2 < 1:        \n",
    "            if status % 2 == 0:\n",
    "                citations['All'] = value\n",
    "            else:\n",
    "                citations['Since2016'] = value\n",
    "            citeBy['citations'] = citations\n",
    "\n",
    "        if status / 2 < 2:\n",
    "            if status % 2 == 0:\n",
    "                h_index['All'] = value\n",
    "            else:\n",
    "                h_index['Since2016'] = value\n",
    "            citeBy['h_index'] = h_index\n",
    "\n",
    "        if status / 2 < 3:\n",
    "            if status % 2 == 0:\n",
    "                i10_index['All'] = value\n",
    "            else:\n",
    "                i10_index['Since2016'] = value\n",
    "            citeBy['i10_index'] = i10_index\n",
    "            \n",
    "    count_d = 0\n",
    "    for d in soup.find_all('td', class_='gsc_rsb_std'):\n",
    "\n",
    "        cited(count_d, d.text)\n",
    "        count_d = count_d + 1       \n",
    "    \n",
    "    return citeBy"
   ]
  },
  {
   "cell_type": "code",
   "execution_count": 6,
   "id": "e04f03cc",
   "metadata": {},
   "outputs": [],
   "source": [
    "def result(soup, ID):\n",
    "    infos = {}\n",
    "    infos['id'] = ID\n",
    "    infos['personalData'] = personalData(soup)\n",
    "    infos['cited'] = citeBy(soup)\n",
    "\n",
    "    return infos"
   ]
  },
  {
   "cell_type": "code",
   "execution_count": 7,
   "id": "63dfacf2",
   "metadata": {},
   "outputs": [],
   "source": [
    "def personalPage(id):\n",
    "    url = 'https://scholar.google.com.tw/citations?hl=zh-TW&user=' + id\n",
    "    r = requests.get(url)\n",
    "    soup = BeautifulSoup(r.text)\n",
    "    return result(soup, id)"
   ]
  },
  {
   "cell_type": "code",
   "execution_count": 8,
   "id": "22d7a277",
   "metadata": {},
   "outputs": [],
   "source": [
    "def test(id):\n",
    "    url = 'https://scholar.google.com.tw/citations?hl=zh-TW&user=' + id\n",
    "    r = requests.get(url)\n",
    "    soup = BeautifulSoup(r.text)\n",
    "    return result(soup, id)"
   ]
  },
  {
   "cell_type": "code",
   "execution_count": 45,
   "id": "1510999c",
   "metadata": {},
   "outputs": [
    {
     "name": "stdout",
     "output_type": "stream",
     "text": [
      "{'id': 'JG-n5IcAAAAJ', 'personalData': {'name': 'Graham Dunn', 'university': 'University of Manchester', 'picture': '/citations/images/avatar_scholar_128.png', 'label': ['Medical Statistics', 'Biostatistics', 'Measurement Errors', 'Causal Inference'], 'updateTime': '2021-10-09 14:05:34'}, 'cited': {'citations': {'All': '50905', 'Since2016': '18998'}, 'h_index': {'All': '117', 'Since2016': '74'}, 'i10_index': {'All': '360', 'Since2016': '271'}}}\n"
     ]
    }
   ],
   "source": [
    "p = test('JG-n5IcAAAAJ')\n",
    "print(p)"
   ]
  },
  {
   "cell_type": "code",
   "execution_count": 46,
   "id": "4714472c",
   "metadata": {},
   "outputs": [],
   "source": [
    "def check_personalInfoFormat(data):\n",
    "    #check id format\n",
    "    rewriteData = data\n",
    "    personalData = data['personalData']\n",
    "    if (data['id'][7::] != 'AAAAJ' or data['id'] == ' ' or data['id'] == None):\n",
    "        return False\n",
    "    #check personal data format\n",
    "    if(personalData['name'] == ' 'or personalData['name'] == None):\n",
    "        return False        \n",
    "    if(personalData['university'] == ' ' or personalData['university'] == '首頁' or personalData['university'] == None):\n",
    "        rewriteData['personalData']['university'] = 'None'\n",
    "\n",
    "    if(personalData['picture'] ==' ' or personalData['picture'] == None or personalData['picture'] == '/citations/images/avatar_scholar_128.png'):\n",
    "        rewriteData['personalData']['picture'] = 'https://scholar.google.com.tw/citations/images/avatar_scholar_128.png'\n",
    "    \n",
    "    if(len(personalData['label']) == 0):\n",
    "        rewriteData['personalData']['label'] = 'None'\n",
    "    #check updateTime format \n",
    "    if(personalData['updateTime'] == '' or personalData['updateTime'] == None):\n",
    "        rewriteData['personalData']['updateTime'] = currentTime()\n",
    "    try:\n",
    "        datetime.datetime.strptime(personalData['updateTime'], \"%Y-%m-%d %H:%M:%S\")\n",
    "        \n",
    "    except:\n",
    "        rewriteData['personalData']['updateTime'] = currentTime()\n",
    "    return rewriteData\n",
    "       \n",
    "\n",
    "        "
   ]
  },
  {
   "cell_type": "code",
   "execution_count": 68,
   "id": "4cccf99f",
   "metadata": {},
   "outputs": [],
   "source": [
    "e={'id': 'DZ-fHPAAAJ',\n",
    " 'personalData': {'name': 'Bernhard Schölkopf',\n",
    "  'university': 'None',\n",
    "  'picture': 'https://scholar.googleusercontent.com/citations?view_op=view_photo&user=DZ-fHPgAAAAJ&citpid=2',\n",
    "  'label': ['Machine Learning',\n",
    "   'Causal Inference',\n",
    "   'Artificial Intelligence',\n",
    "   'Computational Photography',\n",
    "   'Statistics'],\n",
    "  'updateTime': '2021-10-09 13:52:05'},\n",
    " 'cited': {'citations': {'All': '177951', 'Since2016': '80835'},\n",
    "  'h_index': {'All': '163', 'Since2016': '115'},\n",
    "  'i10_index': {'All': '577', 'Since2016': '484'}}}"
   ]
  },
  {
   "cell_type": "code",
   "execution_count": 69,
   "id": "d96b378a",
   "metadata": {},
   "outputs": [
    {
     "data": {
      "text/plain": [
       "False"
      ]
     },
     "execution_count": 69,
     "metadata": {},
     "output_type": "execute_result"
    }
   ],
   "source": [
    "check_personalInfoFormat(e)"
   ]
  },
  {
   "cell_type": "code",
   "execution_count": 55,
   "id": "4136e862",
   "metadata": {},
   "outputs": [],
   "source": [
    "def update_label(label):\n",
    "    for i in label:\n",
    "        ref = db.collection(u'Label-Domain').document(i)\n",
    "        ref.set({u'updateTime': None})\n",
    "   "
   ]
  },
  {
   "cell_type": "code",
   "execution_count": 56,
   "id": "cc124151",
   "metadata": {},
   "outputs": [],
   "source": [
    "update_label(p['personalData']['label'])"
   ]
  },
  {
   "cell_type": "code",
   "execution_count": 67,
   "id": "a4d0b06a",
   "metadata": {},
   "outputs": [
    {
     "name": "stdout",
     "output_type": "stream",
     "text": [
      "['Biostatistics', 'Causal Inference', 'Measurement Errors']\n"
     ]
    }
   ],
   "source": [
    "def get_LastUpdateLabel(limit):\n",
    "    list = []\n",
    "    query = db.collection(u'Label-Domain').order_by(u'updateTime').limit(limit)\n",
    "    results = query.stream()\n",
    "    for r in results:\n",
    "        list.append(r.id)\n",
    "    return list"
   ]
  },
  {
   "cell_type": "code",
   "execution_count": 8,
   "id": "3e65ab62",
   "metadata": {},
   "outputs": [],
   "source": [
    "import json\n",
    "def jsontransfer(items):\n",
    "    data = json.dumps(items)\n",
    "    jsonStr = json.loads(data) \n",
    "    return jsonStr"
   ]
  },
  {
   "cell_type": "code",
   "execution_count": 9,
   "id": "f77d02c8",
   "metadata": {},
   "outputs": [],
   "source": [
    "def updatePersonal(userID):\n",
    "    items = jsontransfer(personalPage(userID))\n",
    "    print(items)\n",
    "    ref = db.collection(u'cguscholar').document((items['id']))\n",
    "    ref.collection(u'updateTime').document((items['personalData']['updateTime'])).set(items['cited'])\n",
    "    ref.set(items['personalData'])"
   ]
  },
  {
   "cell_type": "code",
   "execution_count": 10,
   "id": "fc3702e3",
   "metadata": {},
   "outputs": [],
   "source": [
    "def IDCheck(ID):\n",
    "    users_ref = db.collection(u'cguscholar').document(ID)\n",
    "    doc = users_ref.get()\n",
    "    if doc.exists:\n",
    "        checkTemp = doc.to_dict()\n",
    "        Timestamp = checkTemp['updateTime']\n",
    "        return Timestamp\n",
    "    else:\n",
    "        return ('Not found')"
   ]
  },
  {
   "cell_type": "code",
   "execution_count": 11,
   "id": "1d902762",
   "metadata": {},
   "outputs": [],
   "source": [
    "def expiresCheck(last_update, expires):\n",
    "    if last_update == 'Not found':\n",
    "        compare = True\n",
    "    else:\n",
    "        expires_date = datetime.datetime.strptime(last_update, \"%Y-%m-%d %H:%M:%S\")\n",
    "        compare_date = expires_date + datetime.timedelta(days = expires)\n",
    "        current_date = datetime.datetime.now()\n",
    "\n",
    "        compare = compare_date < current_date\n",
    "    print(compare)\n",
    "    return compare # compare result\n",
    "    #過期或Not found為true"
   ]
  },
  {
   "cell_type": "code",
   "execution_count": 12,
   "id": "48bceb05",
   "metadata": {},
   "outputs": [],
   "source": [
    "def ID_queue(label):\n",
    "    # 建立佇列\n",
    "    ID_queue = queue.Queue()\n",
    "\n",
    "    # 將資料放入佇列\n",
    "    label_ref = db.collection(u'Label-Domain').document(label)\n",
    "    docs = label_ref.get()\n",
    "    IDtemp = docs.to_dict()\n",
    "    \n",
    "    #取五個過期或為爬過的ID\n",
    "    number = 5 \n",
    "    ID_count = 0\n",
    "    while (number != 0):        \n",
    "        expire_time = IDCheck(IDtemp['userID'][ID_count])\n",
    "        if(expiresCheck(expire_time, 1)):\n",
    "            print(IDtemp['userID'][ID_count])\n",
    "            ID_queue.put(IDtemp['userID'][ID_count])\n",
    "            number = number - 1\n",
    "        ID_count = ID_count + 1\n",
    "        \n",
    "    return ID_queue"
   ]
  },
  {
   "cell_type": "code",
   "execution_count": 13,
   "id": "e24cd73d",
   "metadata": {},
   "outputs": [],
   "source": [
    "def userDataList(label):\n",
    "    \n",
    "    # Worker 類別，負責處理資料\n",
    "    class Worker(threading.Thread):\n",
    "      def __init__(self, queue, num):\n",
    "        threading.Thread.__init__(self)\n",
    "        self.queue = queue\n",
    "        self.num = num\n",
    "\n",
    "      def run(self):\n",
    "        while self.queue.qsize() > 0:\n",
    "          # 取得新的資料\n",
    "          userID = self.queue.get()\n",
    "\n",
    "          # 處理資料\n",
    "          #print(\"Worker %d: %s\" % (self.num, userID))\n",
    "          updatePersonal(userID)\n",
    "\n",
    "          time.sleep(1)\n",
    "    work_queue = ID_queue(label)\n",
    "    # 建立兩個 Worker\n",
    "    my_worker1 = Worker(work_queue, 1)\n",
    "    my_worker2 = Worker(work_queue, 2)\n",
    "\n",
    "    # 讓 Worker 開始處理資料\n",
    "    my_worker1.start()\n",
    "    my_worker2.start()\n",
    "\n",
    "    # 等待所有 Worker 結束\n",
    "    my_worker1.join()\n",
    "    my_worker2.join()\n",
    "\n",
    "    print(\"Done.\")\n",
    "    \n"
   ]
  },
  {
   "cell_type": "code",
   "execution_count": null,
   "id": "9441d5a5",
   "metadata": {},
   "outputs": [],
   "source": [
    "label = 'causal_inference'\n",
    "userDataList(label)"
   ]
  },
  {
   "cell_type": "code",
   "execution_count": 88,
   "id": "ba1610d3",
   "metadata": {},
   "outputs": [],
   "source": [
    "# jsonFile = open(\"jsonFile/personalData.json\", \"w\")\n",
    "# jsonFile.write(jsonStr)\n",
    "# jsonFile.close()"
   ]
  }
 ],
 "metadata": {
  "kernelspec": {
   "display_name": "Python 3",
   "language": "python",
   "name": "python3"
  },
  "language_info": {
   "codemirror_mode": {
    "name": "ipython",
    "version": 3
   },
   "file_extension": ".py",
   "mimetype": "text/x-python",
   "name": "python",
   "nbconvert_exporter": "python",
   "pygments_lexer": "ipython3",
   "version": "3.8.8"
  }
 },
 "nbformat": 4,
 "nbformat_minor": 5
}
