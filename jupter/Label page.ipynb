{
 "cells": [
  {
   "cell_type": "code",
   "execution_count": 29,
   "id": "6db30b9b",
   "metadata": {},
   "outputs": [],
   "source": [
    "import firebase_admin\n",
    "from firebase_admin import credentials\n",
    "from firebase_admin import firestore\n",
    "\n",
    "if not firebase_admin._apps:\n",
    "    cred = credentials.Certificate(\"../jsonFile/service-account.json\")\n",
    "    firebase_admin.initialize_app(cred)\n",
    "    \n",
    "db = firestore.client()"
   ]
  },
  {
   "cell_type": "code",
   "execution_count": 1,
   "id": "503e82d0",
   "metadata": {},
   "outputs": [],
   "source": [
    "import requests\n",
    "from bs4 import BeautifulSoup\n",
    "\n",
    "label='rf_systems'\n",
    "url = 'https://scholar.google.com.tw/citations?view_op=search_authors&hl=zh-TW&mauthors=label:'+ label\n",
    "headers = {\n",
    "    'User-Agent': 'Mozilla/5.0 (Macintosh; Intel Mac OS X 10_13_6) AppleWebKit/537.36 (KHTML, like Gecko) Chrome/73.0.3683.103 Safari/537.36'\n",
    "}\n",
    "r = requests.get(url, headers=headers)\n",
    "soup = BeautifulSoup(r.text)"
   ]
  },
  {
   "cell_type": "code",
   "execution_count": 2,
   "id": "f9580080",
   "metadata": {},
   "outputs": [
    {
     "name": "stdout",
     "output_type": "stream",
     "text": [
      "2\n",
      "3\n",
      "4\n",
      "5\n",
      "6\n",
      "7\n",
      "8\n"
     ]
    },
    {
     "data": {
      "text/plain": [
       "[{'userID': ['NjciM8IAAAAJ',\n",
       "   '_FsNXuIAAAAJ',\n",
       "   '8UU9ZfYAAAAJ',\n",
       "   'X_arEpUAAAAJ',\n",
       "   'ptBfinUAAAAJ',\n",
       "   'ZyX78GgAAAAJ',\n",
       "   'N-SEWfcAAAAJ',\n",
       "   'lmOFlZIAAAAJ',\n",
       "   '683EoygAAAAJ',\n",
       "   'w-3Ew7wAAAAJ',\n",
       "   'KhHjFWMAAAAJ',\n",
       "   'E57IHlUAAAAJ',\n",
       "   'uyoWO5gAAAAJ',\n",
       "   'qXf3SpwAAAAJ',\n",
       "   'To17VOkAAAAJ',\n",
       "   'FhcloGAAAAAJ',\n",
       "   '5eWXa0YAAAAJ',\n",
       "   'eD_xT7UAAAAJ',\n",
       "   'd8QkDAwAAAAJ',\n",
       "   'CAoTUEgAAAAJ',\n",
       "   'rGZmioMAAAAJ',\n",
       "   'heg5lugAAAAJ',\n",
       "   'IVlZ1wsAAAAJ',\n",
       "   'j-NMdXcAAAAJ',\n",
       "   'Qjqh8HUAAAAJ',\n",
       "   'biE0BGcAAAAJ',\n",
       "   'm5lXn6oAAAAJ',\n",
       "   '-NqEMJcAAAAJ',\n",
       "   'Af66FWsAAAAJ',\n",
       "   'yHtxQcQAAAAJ',\n",
       "   'eRTlT2wAAAAJ',\n",
       "   'DoPZHWcAAAAJ',\n",
       "   'A3z3s24AAAAJ',\n",
       "   'OCbSI08AAAAJ',\n",
       "   'CLJ4pmEAAAAJ',\n",
       "   '4lodKcsAAAAJ',\n",
       "   '9CIaAwcAAAAJ',\n",
       "   '-7NOZu0AAAAJ',\n",
       "   '_BFAbiYAAAAJ',\n",
       "   '5pxbliIAAAAJ',\n",
       "   'CS6GfDYAAAAJ',\n",
       "   'T1-O8JEAAAAJ',\n",
       "   '0HMabSEAAAAJ',\n",
       "   'c2UuvMUAAAAJ',\n",
       "   'HZsS6BUAAAAJ',\n",
       "   'wlZwsdQAAAAJ',\n",
       "   'I6obUmQAAAAJ',\n",
       "   'AAQh4bAAAAAJ',\n",
       "   'YzZ6WPgAAAAJ',\n",
       "   'vcj74QYAAAAJ',\n",
       "   'pkTofqsAAAAJ',\n",
       "   'm5CfhiMAAAAJ',\n",
       "   '5a-LqosAAAAJ',\n",
       "   'WKP9choAAAAJ',\n",
       "   'opqKtpgAAAAJ',\n",
       "   'QOOVr8AAAAAJ',\n",
       "   '3eV7wJIAAAAJ',\n",
       "   'lU2C_bwAAAAJ',\n",
       "   'b7zC8YkAAAAJ',\n",
       "   'Ff8XTpMAAAAJ',\n",
       "   'jCY3UIcAAAAJ',\n",
       "   'nPyakUUAAAAJ',\n",
       "   'pkISiIsAAAAJ',\n",
       "   'GmkF9BsAAAAJ',\n",
       "   'PF6ZKJkAAAAJ',\n",
       "   'B747ynEAAAAJ',\n",
       "   'jYb3FjYAAAAJ',\n",
       "   'xbKwlO4AAAAJ',\n",
       "   'tcuhPQYAAAAJ',\n",
       "   '75VB9hAAAAAJ',\n",
       "   'rm7HkcMAAAAJ']}]"
      ]
     },
     "execution_count": 2,
     "metadata": {},
     "output_type": "execute_result"
    }
   ],
   "source": [
    "searchPage = True\n",
    "count = 1\n",
    "\n",
    "temp = []\n",
    "user = {}\n",
    "page = int('0')\n",
    "  \n",
    "while searchPage == True:\n",
    "    for i in soup.find_all('div', class_ = 'gsc_1usr'):      \n",
    "        #tag = []\n",
    "\n",
    "        id = i.find('a')['href'].split('user=')[1]\n",
    "        temp.append(id)\n",
    "        #temp['label'] = tag\n",
    "        \n",
    "    user['userID'] = temp\n",
    "    try:\n",
    "        #split nextpage after_author\n",
    "        afterAuthor = soup.find('div', id = 'gsc_authors_bottom_pag').find('button', class_ = 'gs_btnPR gs_in_ib gs_btn_half gs_btn_lsb gs_btn_srt gsc_pgn_pnx')['onclick'].split('author\\\\x3d')[1].split('\\\\x26')[0]\n",
    "        page = str(int(page) + 10) \n",
    "        \n",
    "        url = 'https://scholar.google.com.tw/citations?view_op=search_authors&hl=zh-TW&mauthors=label:'+label+'&after_author='+afterAuthor+'&astart='+page\n",
    "        r = requests.get(url, headers=headers)\n",
    "        soup = BeautifulSoup(r.text)\n",
    "        \n",
    "        count = count +1\n",
    "        print(count)\n",
    "    except KeyError as err:        \n",
    "        searchPage == False\n",
    "        break\n",
    "\n",
    "            \n"
   ]
  },
  {
   "cell_type": "code",
   "execution_count": 6,
   "id": "a28434ad",
   "metadata": {},
   "outputs": [],
   "source": [
    "import json\n",
    "def jsontransfer(items):\n",
    "    data = json.dumps(items)\n",
    "    jsonStr = json.loads(data) \n",
    "    return jsonStr"
   ]
  },
  {
   "cell_type": "code",
   "execution_count": null,
   "id": "761e05f7",
   "metadata": {},
   "outputs": [],
   "source": []
  },
  {
   "cell_type": "code",
   "execution_count": 27,
   "id": "8b3a90d1",
   "metadata": {},
   "outputs": [],
   "source": [
    "def updateLabel(items, label):\n",
    "    \n",
    "    ref = db.collection(u'Label-Domain').document(label)\n",
    "    ref.set(items)"
   ]
  },
  {
   "cell_type": "code",
   "execution_count": 21,
   "id": "7024fcda",
   "metadata": {},
   "outputs": [],
   "source": [
    "updateLabel(user, label)"
   ]
  },
  {
   "cell_type": "code",
   "execution_count": 33,
   "id": "53e0e214",
   "metadata": {},
   "outputs": [],
   "source": [
    "import requests\n",
    "from bs4 import BeautifulSoup\n",
    "import datetime\n",
    "def currentTime():\n",
    "    now = datetime.datetime.now()\n",
    "    currentTime = now.strftime(\"%Y-%m-%d %H:%M:%S\")\n",
    "    return currentTime"
   ]
  },
  {
   "cell_type": "code",
   "execution_count": 36,
   "id": "8c18c02e",
   "metadata": {},
   "outputs": [],
   "source": [
    "def get_LabelIDList(label):\n",
    "\n",
    "    url = 'https://scholar.google.com.tw/citations?view_op=search_authors&hl=zh-TW&mauthors=label:' + label\n",
    "    headers = {\n",
    "        'User-Agent': 'Mozilla/5.0 (Macintosh; Intel Mac OS X 10_13_6) AppleWebKit/537.36 (KHTML, like Gecko) Chrome/73.0.3683.103 Safari/537.36'\n",
    "    }\n",
    "    r = requests.get(url, headers=headers)\n",
    "    soup = BeautifulSoup(r.text)\n",
    "\n",
    "    searchPage = True\n",
    "    tempList = []\n",
    "    Label = {}\n",
    "    page = int('0')\n",
    "\n",
    "    while searchPage == True:\n",
    "        for i in soup.find_all('div', class_='gsc_1usr'):\n",
    "            #tag = []\n",
    "\n",
    "            id = i.find('a')['href'].split('user=')[1]\n",
    "            tempList.append(id)\n",
    "            #temp['label'] = tag\n",
    "\n",
    "        Label['userID'] = tempList\n",
    "        try:\n",
    "            # split nextpage after_author\n",
    "            afterAuthor = soup.find('div', id='gsc_authors_bottom_pag').find(\n",
    "                'button', class_='gs_btnPR gs_in_ib gs_btn_half gs_btn_lsb gs_btn_srt gsc_pgn_pnx')['onclick'].split('author\\\\x3d')[1].split('\\\\x26')[0]\n",
    "            page = str(int(page) + 10)\n",
    "\n",
    "            url = 'https://scholar.google.com.tw/citations?view_op=search_authors&hl=zh-TW&mauthors=label:' + \\\n",
    "                label+'&after_author='+afterAuthor+'&astart='+page\n",
    "            r = requests.get(url, headers=headers)\n",
    "            soup = BeautifulSoup(r.text)\n",
    "\n",
    "        except KeyError as err:\n",
    "            searchPage == False\n",
    "            break\n",
    "    Label['updateTime'] = currentTime()\n",
    "    return Label"
   ]
  },
  {
   "cell_type": "code",
   "execution_count": 37,
   "id": "988f7097",
   "metadata": {},
   "outputs": [
    {
     "name": "stdout",
     "output_type": "stream",
     "text": [
      "{'userID': ['NjciM8IAAAAJ', '_FsNXuIAAAAJ', '8UU9ZfYAAAAJ', 'X_arEpUAAAAJ', 'ptBfinUAAAAJ', 'ZyX78GgAAAAJ', 'N-SEWfcAAAAJ', 'lmOFlZIAAAAJ', '683EoygAAAAJ', 'w-3Ew7wAAAAJ', 'KhHjFWMAAAAJ', 'E57IHlUAAAAJ', 'uyoWO5gAAAAJ', 'qXf3SpwAAAAJ', 'To17VOkAAAAJ', 'FhcloGAAAAAJ', '5eWXa0YAAAAJ', 'eD_xT7UAAAAJ', 'd8QkDAwAAAAJ', 'CAoTUEgAAAAJ', 'rGZmioMAAAAJ', 'heg5lugAAAAJ', 'IVlZ1wsAAAAJ', 'j-NMdXcAAAAJ', 'Qjqh8HUAAAAJ', 'biE0BGcAAAAJ', 'm5lXn6oAAAAJ', '-NqEMJcAAAAJ', 'Af66FWsAAAAJ', 'eRTlT2wAAAAJ', 'yHtxQcQAAAAJ', 'DoPZHWcAAAAJ', 'A3z3s24AAAAJ', 'OCbSI08AAAAJ', 'CLJ4pmEAAAAJ', '4lodKcsAAAAJ', '9CIaAwcAAAAJ', '-7NOZu0AAAAJ', '_BFAbiYAAAAJ', '5pxbliIAAAAJ', 'pcgCwM0AAAAJ', 'CS6GfDYAAAAJ', 'T1-O8JEAAAAJ', '0HMabSEAAAAJ', 'c2UuvMUAAAAJ', 'HZsS6BUAAAAJ', 'wlZwsdQAAAAJ', 'I6obUmQAAAAJ', 'AAQh4bAAAAAJ', 'YzZ6WPgAAAAJ', 'vcj74QYAAAAJ', 'pkTofqsAAAAJ', 'm5CfhiMAAAAJ', '5a-LqosAAAAJ', 'WKP9choAAAAJ', 'opqKtpgAAAAJ', 'QOOVr8AAAAAJ', '3eV7wJIAAAAJ', 'b7zC8YkAAAAJ', 'lU2C_bwAAAAJ', 'Ff8XTpMAAAAJ', 'jCY3UIcAAAAJ', 'nPyakUUAAAAJ', 'pkISiIsAAAAJ', 'GmkF9BsAAAAJ', 'B747ynEAAAAJ', 'PF6ZKJkAAAAJ', 'jYb3FjYAAAAJ', 'xbKwlO4AAAAJ', 'tcuhPQYAAAAJ', '75VB9hAAAAAJ', 'rm7HkcMAAAAJ'], 'label': 'rf_systems', 'updateTime': '2021-10-09 15:33:13'}\n"
     ]
    }
   ],
   "source": [
    " t=get_LabelIDList('rf_systems')\n",
    "print(t)"
   ]
  },
  {
   "cell_type": "code",
   "execution_count": 38,
   "id": "89c4d113",
   "metadata": {},
   "outputs": [],
   "source": [
    "updateLabel(t, 'rf_systems')"
   ]
  },
  {
   "cell_type": "code",
   "execution_count": 64,
   "id": "0873271b",
   "metadata": {},
   "outputs": [],
   "source": [
    "def labelInfoFormat(data):\n",
    "    rewriteData = data\n",
    "    if(len(data['userID']) == 0):\n",
    "        return False\n",
    "    # check updateTime format\n",
    "    if(data['updateTime'] == '' or data['updateTime'] == None):\n",
    "        rewriteData['personalData']['updateTime'] = currentTime()\n",
    "\n",
    "    try:\n",
    "        datetime.datetime.strptime(\n",
    "            data['updateTime'], \"%Y-%m-%d %H:%M:%S\")\n",
    "    except:\n",
    "        rewriteData['updateTime'] = currentTime()\n",
    "    return rewriteData"
   ]
  },
  {
   "cell_type": "code",
   "execution_count": 59,
   "id": "b41d0225",
   "metadata": {},
   "outputs": [],
   "source": [
    "def LabelCrawl(labelList):\n",
    "    check_LabelFormat = labelInfoFormat(labelList)\n",
    "    if(check_LabelFormat != False):\n",
    "        print(1)\n",
    "        print(labelList)\n",
    "    else:\n",
    "        rewriteLabelInfo = check_LabelFormat\n",
    "        print(rewriteLabelInfo)"
   ]
  },
  {
   "cell_type": "code",
   "execution_count": 62,
   "id": "942579a8",
   "metadata": {},
   "outputs": [],
   "source": [
    "p= {'userID': ['NjciM8IAAAAJ', '_FsNXuIAAAAJ', '8UU9ZfYAAAAJ', 'X_arEpUAAAAJ', 'ptBfinUAAAAJ', 'ZyX78GgAAAAJ', 'N-SEWfcAAAAJ', 'lmOFlZIAAAAJ', '683EoygAAAAJ', 'w-3Ew7wAAAAJ', 'KhHjFWMAAAAJ', 'E57IHlUAAAAJ', 'uyoWO5gAAAAJ', 'qXf3SpwAAAAJ', 'To17VOkAAAAJ', 'FhcloGAAAAAJ', '5eWXa0YAAAAJ', 'eD_xT7UAAAAJ', 'd8QkDAwAAAAJ', 'CAoTUEgAAAAJ', 'rGZmioMAAAAJ', 'heg5lugAAAAJ', 'IVlZ1wsAAAAJ', 'j-NMdXcAAAAJ', 'Qjqh8HUAAAAJ', 'biE0BGcAAAAJ', 'm5lXn6oAAAAJ', '-NqEMJcAAAAJ', 'Af66FWsAAAAJ', 'eRTlT2wAAAAJ', 'yHtxQcQAAAAJ', 'DoPZHWcAAAAJ', 'A3z3s24AAAAJ', 'OCbSI08AAAAJ', 'CLJ4pmEAAAAJ', '4lodKcsAAAAJ', '9CIaAwcAAAAJ', '-7NOZu0AAAAJ', '_BFAbiYAAAAJ', '5pxbliIAAAAJ', 'pcgCwM0AAAAJ', 'CS6GfDYAAAAJ', 'T1-O8JEAAAAJ', '0HMabSEAAAAJ', 'c2UuvMUAAAAJ', 'HZsS6BUAAAAJ', 'wlZwsdQAAAAJ', 'I6obUmQAAAAJ', 'AAQh4bAAAAAJ', 'YzZ6WPgAAAAJ', 'vcj74QYAAAAJ', 'pkTofqsAAAAJ', 'm5CfhiMAAAAJ', '5a-LqosAAAAJ', 'WKP9choAAAAJ', 'opqKtpgAAAAJ', 'QOOVr8AAAAAJ', '3eV7wJIAAAAJ', 'b7zC8YkAAAAJ', 'lU2C_bwAAAAJ', 'Ff8XTpMAAAAJ', 'jCY3UIcAAAAJ', 'nPyakUUAAAAJ', 'pkISiIsAAAAJ', 'GmkF9BsAAAAJ', 'B747ynEAAAAJ', 'PF6ZKJkAAAAJ', 'jYb3FjYAAAAJ', 'xbKwlO4AAAAJ', 'tcuhPQYAAAAJ', '75VB9hAAAAAJ', 'rm7HkcMAAAAJ'], 'label': 'rf_systems', 'updateTime': ''}"
   ]
  },
  {
   "cell_type": "code",
   "execution_count": 63,
   "id": "776737e1",
   "metadata": {},
   "outputs": [
    {
     "ename": "NameError",
     "evalue": "name 'getTime' is not defined",
     "output_type": "error",
     "traceback": [
      "\u001b[1;31m---------------------------------------------------------------------------\u001b[0m",
      "\u001b[1;31mNameError\u001b[0m                                 Traceback (most recent call last)",
      "\u001b[1;32m<ipython-input-63-fc94b8bd8aaf>\u001b[0m in \u001b[0;36m<module>\u001b[1;34m\u001b[0m\n\u001b[1;32m----> 1\u001b[1;33m \u001b[0mLabelCrawl\u001b[0m\u001b[1;33m(\u001b[0m\u001b[0mp\u001b[0m\u001b[1;33m)\u001b[0m\u001b[1;33m\u001b[0m\u001b[1;33m\u001b[0m\u001b[0m\n\u001b[0m",
      "\u001b[1;32m<ipython-input-59-f6d7a3e441dc>\u001b[0m in \u001b[0;36mLabelCrawl\u001b[1;34m(labelList)\u001b[0m\n\u001b[0;32m      1\u001b[0m \u001b[1;32mdef\u001b[0m \u001b[0mLabelCrawl\u001b[0m\u001b[1;33m(\u001b[0m\u001b[0mlabelList\u001b[0m\u001b[1;33m)\u001b[0m\u001b[1;33m:\u001b[0m\u001b[1;33m\u001b[0m\u001b[1;33m\u001b[0m\u001b[0m\n\u001b[1;32m----> 2\u001b[1;33m     \u001b[0mcheck_LabelFormat\u001b[0m \u001b[1;33m=\u001b[0m \u001b[0mlabelInfoFormat\u001b[0m\u001b[1;33m(\u001b[0m\u001b[0mlabelList\u001b[0m\u001b[1;33m)\u001b[0m\u001b[1;33m\u001b[0m\u001b[1;33m\u001b[0m\u001b[0m\n\u001b[0m\u001b[0;32m      3\u001b[0m     \u001b[1;32mif\u001b[0m\u001b[1;33m(\u001b[0m\u001b[0mcheck_LabelFormat\u001b[0m \u001b[1;33m!=\u001b[0m \u001b[1;32mFalse\u001b[0m\u001b[1;33m)\u001b[0m\u001b[1;33m:\u001b[0m\u001b[1;33m\u001b[0m\u001b[1;33m\u001b[0m\u001b[0m\n\u001b[0;32m      4\u001b[0m         \u001b[0mprint\u001b[0m\u001b[1;33m(\u001b[0m\u001b[1;36m1\u001b[0m\u001b[1;33m)\u001b[0m\u001b[1;33m\u001b[0m\u001b[1;33m\u001b[0m\u001b[0m\n\u001b[0;32m      5\u001b[0m         \u001b[0mprint\u001b[0m\u001b[1;33m(\u001b[0m\u001b[0mlabelList\u001b[0m\u001b[1;33m)\u001b[0m\u001b[1;33m\u001b[0m\u001b[1;33m\u001b[0m\u001b[0m\n",
      "\u001b[1;32m<ipython-input-58-d6961a5ed6a7>\u001b[0m in \u001b[0;36mlabelInfoFormat\u001b[1;34m(data)\u001b[0m\n\u001b[0;32m      5\u001b[0m     \u001b[1;31m# check updateTime format\u001b[0m\u001b[1;33m\u001b[0m\u001b[1;33m\u001b[0m\u001b[1;33m\u001b[0m\u001b[0m\n\u001b[0;32m      6\u001b[0m     \u001b[1;32mif\u001b[0m\u001b[1;33m(\u001b[0m\u001b[0mdata\u001b[0m\u001b[1;33m[\u001b[0m\u001b[1;34m'updateTime'\u001b[0m\u001b[1;33m]\u001b[0m \u001b[1;33m==\u001b[0m \u001b[1;34m''\u001b[0m \u001b[1;32mor\u001b[0m \u001b[0mdata\u001b[0m\u001b[1;33m[\u001b[0m\u001b[1;34m'updateTime'\u001b[0m\u001b[1;33m]\u001b[0m \u001b[1;33m==\u001b[0m \u001b[1;32mNone\u001b[0m\u001b[1;33m)\u001b[0m\u001b[1;33m:\u001b[0m\u001b[1;33m\u001b[0m\u001b[1;33m\u001b[0m\u001b[0m\n\u001b[1;32m----> 7\u001b[1;33m         \u001b[0mrewriteData\u001b[0m\u001b[1;33m[\u001b[0m\u001b[1;34m'personalData'\u001b[0m\u001b[1;33m]\u001b[0m\u001b[1;33m[\u001b[0m\u001b[1;34m'updateTime'\u001b[0m\u001b[1;33m]\u001b[0m \u001b[1;33m=\u001b[0m \u001b[0mgetTime\u001b[0m\u001b[1;33m.\u001b[0m\u001b[0mcurrentTime\u001b[0m\u001b[1;33m(\u001b[0m\u001b[1;33m)\u001b[0m\u001b[1;33m\u001b[0m\u001b[1;33m\u001b[0m\u001b[0m\n\u001b[0m\u001b[0;32m      8\u001b[0m \u001b[1;33m\u001b[0m\u001b[0m\n\u001b[0;32m      9\u001b[0m     \u001b[1;32mtry\u001b[0m\u001b[1;33m:\u001b[0m\u001b[1;33m\u001b[0m\u001b[1;33m\u001b[0m\u001b[0m\n",
      "\u001b[1;31mNameError\u001b[0m: name 'getTime' is not defined"
     ]
    }
   ],
   "source": [
    "LabelCrawl(p)"
   ]
  },
  {
   "cell_type": "code",
   "execution_count": null,
   "id": "24dd4bf1",
   "metadata": {},
   "outputs": [],
   "source": []
  }
 ],
 "metadata": {
  "kernelspec": {
   "display_name": "Python 3",
   "language": "python",
   "name": "python3"
  },
  "language_info": {
   "codemirror_mode": {
    "name": "ipython",
    "version": 3
   },
   "file_extension": ".py",
   "mimetype": "text/x-python",
   "name": "python",
   "nbconvert_exporter": "python",
   "pygments_lexer": "ipython3",
   "version": "3.8.8"
  }
 },
 "nbformat": 4,
 "nbformat_minor": 5
}
